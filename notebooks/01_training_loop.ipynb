{
 "cells": [
  {
   "cell_type": "code",
   "execution_count": 1,
   "id": "bc4640ba-6bf8-40b4-a38f-8a657aff7a9f",
   "metadata": {},
   "outputs": [],
   "source": [
    "import flamino"
   ]
  },
  {
   "cell_type": "code",
   "execution_count": 1,
   "id": "1d7732b2-9b79-4029-b5c7-981933d1c94f",
   "metadata": {},
   "outputs": [],
   "source": [
    "import jax"
   ]
  },
  {
   "cell_type": "code",
   "execution_count": 2,
   "id": "39c7fcba-5729-486c-9a64-329bcab62911",
   "metadata": {},
   "outputs": [
    {
     "data": {
      "text/plain": [
       "[CpuDevice(id=0)]"
      ]
     },
     "execution_count": 2,
     "metadata": {},
     "output_type": "execute_result"
    }
   ],
   "source": [
    "jax.devices()"
   ]
  },
  {
   "cell_type": "code",
   "execution_count": null,
   "id": "792f861e-a6d1-4824-8420-58b96eeb5e12",
   "metadata": {},
   "outputs": [],
   "source": []
  }
 ],
 "metadata": {
  "kernelspec": {
   "display_name": "flamino",
   "language": "python",
   "name": "flamino"
  },
  "language_info": {
   "codemirror_mode": {
    "name": "ipython",
    "version": 3
   },
   "file_extension": ".py",
   "mimetype": "text/x-python",
   "name": "python",
   "nbconvert_exporter": "python",
   "pygments_lexer": "ipython3",
   "version": "3.13.0"
  }
 },
 "nbformat": 4,
 "nbformat_minor": 5
}
